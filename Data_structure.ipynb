{
  "nbformat": 4,
  "nbformat_minor": 0,
  "metadata": {
    "colab": {
      "provenance": []
    },
    "kernelspec": {
      "name": "python3",
      "display_name": "Python 3"
    },
    "language_info": {
      "name": "python"
    }
  },
  "cells": [
    {
      "cell_type": "markdown",
      "source": [
        "#Q1. what are data structure and why are the important ?\n",
        "  Data structure are special formats for organizing , storing and accessing collection of data .They help to manage large amount of data .\n",
        "  Well chosen data structure simplify data manipulation ( adding , removing , modifying ) elements .\n",
        "  optimizing searching and strong opera.\n",
        "\n",
        "\n",
        "\n"
      ],
      "metadata": {
        "id": "jkSIqYStkhra"
      }
    },
    {
      "cell_type": "markdown",
      "source": [
        "#Q2. Explain the difference between mutable and immutable data type with example .\n",
        "  Mutable data types are modify after creation .In this you can change ,add ,remove elements.\n",
        "  List , dictionary , sets are mutable data types .\n",
        "  example\n",
        "   my_list =[23,45,67]\n",
        "   my_list.append (80)\n",
        "   print(my_list )\n",
        "  Immutable data types are can not changed once they are created .\n",
        "  string ,tuple .\n"
      ],
      "metadata": {
        "id": "uzZwh5p4nz8S"
      }
    },
    {
      "cell_type": "markdown",
      "source": [
        "#Q3.What are main difference between lists and tuple .\n",
        "The main difference is mutablity in between list and tuple .\n",
        "List can be changed ,added or removed aftre creation .\n",
        "Tuple is immutable , it cannot be modified .\n",
        "List syntax is [] ,tuple syntax () .\n"
      ],
      "metadata": {
        "id": "8e5Mnt6RrilR"
      }
    },
    {
      "cell_type": "markdown",
      "source": [
        "#Q4.Describe how dictionary store data ?\n",
        "In python a dictionary stores data as key-values pairs .\n",
        "Each value consists of a key value that's key value is unique  identifier .\n",
        "Flexible data : keys and values can be varioue data types\n",
        "It is unordered collection of data ."
      ],
      "metadata": {
        "id": "wKpdrZHntMfL"
      }
    },
    {
      "cell_type": "markdown",
      "source": [
        "#Q5.Why might you use a set instead of a list in python ?\n",
        "A set automatically removes duplicates ,while a list allows them.\n",
        "sets use a hash table ,making membership checks in opertor .\n",
        "sets are unique , unordered collof data .\n",
        "Less memory usage .\n",
        "\n"
      ],
      "metadata": {
        "id": "_BFw64QXvYrg"
      }
    },
    {
      "cell_type": "markdown",
      "source": [
        "#Q6. What is a string in python , how is it different from a list .\n",
        "A string in python is an immutable sequence of character .strings are enclosed in single (') ,duble (\") and triple (''' ,\"\"\").\n",
        "strings are immutable and lists are mutable .\n",
        "In string stores characters and list stores any type of data ."
      ],
      "metadata": {
        "id": "p8vVcQDjxn_G"
      }
    },
    {
      "cell_type": "markdown",
      "source": [
        "#Q7.How do tuples ensure data integrity in python ?\n",
        "Tuples are hashble they can be used as dictionary keys and sets elements , ensuring data remains unchanged .\n",
        "Prevent accidental modification .\n",
        "Ensures consistency for constants and grouped data .\n"
      ],
      "metadata": {
        "id": "wZBHTrxPzm4P"
      }
    },
    {
      "cell_type": "markdown",
      "source": [
        "#Q8.What is a hash table and how does it related to dictionary in python ?\n",
        "A hash table is a data stucture that stoes key value pairs and allows fast lookups ,insertion and deletion .\n",
        "A hash function converts a key into a unique integer .\n",
        "The hash value determine the index where key value stores .\n",
        "Stores data as key values pairs .\n",
        "Uses hashing for fast loopkups .\n"
      ],
      "metadata": {
        "id": "ZU85sPr41pxq"
      }
    },
    {
      "cell_type": "markdown",
      "source": [
        "#Q9. Can list contain different data types in types ?\n",
        "A list can contains different data types .\n",
        "\n",
        "\n"
      ],
      "metadata": {
        "id": "BTQ1DEen3p7x"
      }
    },
    {
      "cell_type": "markdown",
      "source": [
        "#Q10.Explain why strings are immutble in python ?\n",
        "string are immutable because performance optimizing . Python stores only one copy of a string in memory and reuese it when needed .\n",
        "A string's immutable ensures thats hash value remains constant ,making it a reliable ."
      ],
      "metadata": {
        "id": "yzrz4GQW5CDO"
      }
    },
    {
      "cell_type": "markdown",
      "source": [
        "#Q11. What advantages do dictionaries offer over lists for certain tasks ?\n",
        "Dictionaries offer several advantages over lists for certain tasks ,mainly due to key value structure and fast lookups .\n",
        "Dictionary uses a hash table ,making key based lookups , lists don't have direct access to element by key .\n",
        "Key based access instead of index based .\n"
      ],
      "metadata": {
        "id": "nGBqemqC7HGx"
      }
    },
    {
      "cell_type": "markdown",
      "source": [
        "#Q12.Describe a scenario where using a tuple would be preferable over a list.\n",
        "A tuple would be preferable over a list in a scenario where immutablility is important . Tuple are slightly more memory efficient and faster than lists for fixed data .If you need to use these values as dictionary keys or set elements ,tuples can be hashed ,while lists cannot ."
      ],
      "metadata": {
        "id": "GgH3KvMp9KNV"
      }
    },
    {
      "cell_type": "markdown",
      "source": [
        "#Q13.How do sets handle duplicate values in python ?\n",
        "In python , sets automatically remove duplicate values and store unique element ."
      ],
      "metadata": {
        "id": "gG0qnyJxAvYa"
      }
    },
    {
      "cell_type": "markdown",
      "source": [
        "#Q14.How does the \"in\" keyword work\n",
        "differently for lists and dictionaries ?\n",
        "The \"in\" keyword in pyis used to check for membership ,but its different for lists and dictionaries . In lists when checking if a value exists in a list ,python iterates through each element untill it finds a match .\n",
        "In dictionaries , when check for membership in a dictionary ,python only checks the keys  ,not the values ."
      ],
      "metadata": {
        "id": "m3HDYwmsBx9a"
      }
    },
    {
      "cell_type": "markdown",
      "source": [
        "#Q15.Can you modify the element of a tuple ? Explain why and why not .\n",
        "No , elements of tuple cannot modify because it is immutable in python .\n",
        "Tuples are designed to be immutable to ensure data integrity .\n",
        "If you need to modify data ,convert the tuple into a list ,change the value and convert into tuple ."
      ],
      "metadata": {
        "id": "Tq32vYOcDrtX"
      }
    },
    {
      "cell_type": "markdown",
      "source": [
        "#Q16.What is a nested dictionary and give an example of its use case ?\n",
        "A nested dictionary is a dictionary that contains one or more dictionaries as values . In this organizes data logically\n",
        "example :"
      ],
      "metadata": {
        "id": "NyJvcIszMzUG"
      }
    },
    {
      "cell_type": "markdown",
      "source": [
        "#Q17.Describe the time complexity of accessing elements in a dictornary .\n",
        "In a dictionary implementation , accesing an element by its key has an average -case time complexity."
      ],
      "metadata": {
        "id": "cyju92E3OkuF"
      }
    },
    {
      "cell_type": "markdown",
      "source": [
        "#Q18.In what situations are lists preferred over dictiory ?\n",
        "In this list the order of elements is important ,lists are preferred because they are ordered data.\n",
        "lists are sequential access data .\n",
        "Index based access in list ."
      ],
      "metadata": {
        "id": "w_xqBvepmyzS"
      }
    },
    {
      "cell_type": "markdown",
      "source": [
        "#Q19.why are dictionaries considered unordered and how does that effect data retrieval.\n",
        "Dictionaries are important beacause they provide fast and efficient data retrival using by key -value pair .\n",
        "stores complex relationships between data in an easily accessible format."
      ],
      "metadata": {
        "id": "uEV91MbOp8Ud"
      }
    },
    {
      "cell_type": "markdown",
      "source": [
        "#Q20.Explain the difference between a list and a dictionary in items of data retrievel.\n",
        "A list is an ordered collection of items indexed by integer position .\n",
        "a dictionary is an unordered collection of key-values pairs."
      ],
      "metadata": {
        "id": "Dm-DK3CnsRKc"
      }
    },
    {
      "cell_type": "code",
      "source": [
        "#A 1.\n",
        "s_1 = \"Shweta Trivedi\"\n",
        "print(s_1)"
      ],
      "metadata": {
        "colab": {
          "base_uri": "https://localhost:8080/"
        },
        "id": "PZ-uYsl4tS0m",
        "outputId": "866402d8-24c0-44d7-feae-64d967282d45"
      },
      "execution_count": null,
      "outputs": [
        {
          "output_type": "stream",
          "name": "stdout",
          "text": [
            "Shweta Trivedi\n"
          ]
        }
      ]
    },
    {
      "cell_type": "code",
      "source": [
        "#A 2.\n",
        "Str_1 = \"Hello world\"\n",
        "print(len(Str_1))"
      ],
      "metadata": {
        "colab": {
          "base_uri": "https://localhost:8080/"
        },
        "id": "OtzDQLGkt1oW",
        "outputId": "20c54f4b-d005-4149-d11a-34a66b7924c9"
      },
      "execution_count": null,
      "outputs": [
        {
          "output_type": "stream",
          "name": "stdout",
          "text": [
            "11\n"
          ]
        }
      ]
    },
    {
      "cell_type": "code",
      "source": [
        "#A 3.\n",
        "str_1 = \"python programming \"\n",
        "str_1[0:3]"
      ],
      "metadata": {
        "colab": {
          "base_uri": "https://localhost:8080/",
          "height": 35
        },
        "id": "stPw7EDCuJZo",
        "outputId": "63d713d6-8ab5-4422-be8a-4e3d1ba04e8d"
      },
      "execution_count": null,
      "outputs": [
        {
          "output_type": "execute_result",
          "data": {
            "text/plain": [
              "'pyt'"
            ],
            "application/vnd.google.colaboratory.intrinsic+json": {
              "type": "string"
            }
          },
          "metadata": {},
          "execution_count": 5
        }
      ]
    },
    {
      "cell_type": "code",
      "source": [
        "#A 4.\n",
        "s_1 =\"hello\"\n",
        "s_uper =s_1.upper()\n",
        "print(s_uper)"
      ],
      "metadata": {
        "colab": {
          "base_uri": "https://localhost:8080/"
        },
        "id": "S7FIo3TnuodR",
        "outputId": "80b31a14-7a60-4739-f9b9-62df361791fd"
      },
      "execution_count": null,
      "outputs": [
        {
          "output_type": "stream",
          "name": "stdout",
          "text": [
            "HELLO\n"
          ]
        }
      ]
    },
    {
      "cell_type": "code",
      "source": [
        "#A 5.\n",
        "text =\"I like apple \"\n",
        "text1 = text.replace(\"apple\",\"orange\")\n",
        "print(text1)"
      ],
      "metadata": {
        "colab": {
          "base_uri": "https://localhost:8080/"
        },
        "id": "xye3HaVJvuIP",
        "outputId": "7edc535a-3390-428d-bce6-eb19784d86f2"
      },
      "execution_count": null,
      "outputs": [
        {
          "output_type": "stream",
          "name": "stdout",
          "text": [
            "I like orange \n"
          ]
        }
      ]
    },
    {
      "cell_type": "code",
      "source": [
        "#A 6.\n",
        "list_1 = [1,2,3,4,5]\n",
        "list_1"
      ],
      "metadata": {
        "colab": {
          "base_uri": "https://localhost:8080/"
        },
        "id": "Y-Gm5juuxPlu",
        "outputId": "d6f9a4cd-ac78-46b0-beaa-1abe7ef79e6e"
      },
      "execution_count": null,
      "outputs": [
        {
          "output_type": "execute_result",
          "data": {
            "text/plain": [
              "[1, 2, 3, 4, 5]"
            ]
          },
          "metadata": {},
          "execution_count": 15
        }
      ]
    },
    {
      "cell_type": "code",
      "source": [
        "from posixpath import lexists\n",
        "#A 7.\n",
        "List = [ 1,2,3,4]\n",
        "List.append(10)\n",
        "print(List)"
      ],
      "metadata": {
        "colab": {
          "base_uri": "https://localhost:8080/"
        },
        "id": "0C8AQB4XygC4",
        "outputId": "00e9f385-623f-4ad6-c8b1-fbc8d442ac51"
      },
      "execution_count": null,
      "outputs": [
        {
          "output_type": "stream",
          "name": "stdout",
          "text": [
            "[1, 2, 3, 4, 10]\n"
          ]
        }
      ]
    },
    {
      "cell_type": "code",
      "source": [
        "#A 8.\n",
        "list = [1,2,3,4,5]\n",
        "list.remove(3)\n",
        "print(list)"
      ],
      "metadata": {
        "colab": {
          "base_uri": "https://localhost:8080/"
        },
        "id": "kOVe0Gl3zPiJ",
        "outputId": "21693b9d-210b-424d-e159-779575769ce9"
      },
      "execution_count": null,
      "outputs": [
        {
          "output_type": "stream",
          "name": "stdout",
          "text": [
            "[1, 2, 4, 5]\n"
          ]
        }
      ]
    },
    {
      "cell_type": "code",
      "source": [
        "#A 9.\n",
        "list =['a','b','c','d']\n",
        "list[2]\n"
      ],
      "metadata": {
        "colab": {
          "base_uri": "https://localhost:8080/",
          "height": 35
        },
        "id": "NZkxqAyszmod",
        "outputId": "fb239f96-03cb-49d9-9634-b2efb1b7ec1e"
      },
      "execution_count": null,
      "outputs": [
        {
          "output_type": "execute_result",
          "data": {
            "text/plain": [
              "'c'"
            ],
            "application/vnd.google.colaboratory.intrinsic+json": {
              "type": "string"
            }
          },
          "metadata": {},
          "execution_count": 18
        }
      ]
    },
    {
      "cell_type": "code",
      "source": [
        "#A 10.\n",
        "list = [10,20,30,40,50]\n",
        "list.reverse()\n",
        "print(list)"
      ],
      "metadata": {
        "colab": {
          "base_uri": "https://localhost:8080/"
        },
        "id": "km6uydmr0mki",
        "outputId": "2e8b641d-50ae-4c01-90f9-66be7de6cc21"
      },
      "execution_count": null,
      "outputs": [
        {
          "output_type": "stream",
          "name": "stdout",
          "text": [
            "[50, 40, 30, 20, 10]\n"
          ]
        }
      ]
    },
    {
      "cell_type": "code",
      "source": [
        "#A 11.\n",
        "Tuple_1 =( 100,200,300)\n",
        "print(Tuple_1)\n"
      ],
      "metadata": {
        "colab": {
          "base_uri": "https://localhost:8080/"
        },
        "id": "sKzhdsCC1Vuj",
        "outputId": "f73daac7-775b-450d-de36-e311f29a497e"
      },
      "execution_count": null,
      "outputs": [
        {
          "output_type": "stream",
          "name": "stdout",
          "text": [
            "(100, 200, 300)\n"
          ]
        }
      ]
    },
    {
      "cell_type": "code",
      "source": [
        "#A 12.\n",
        "tuple = (\"red\",\"green\",\"blue\",\"yellow\")\n",
        "tuple[2:]"
      ],
      "metadata": {
        "id": "TD2wHUCn14fR",
        "colab": {
          "base_uri": "https://localhost:8080/"
        },
        "outputId": "129d050b-a3da-487d-d3dc-e9f32e00a6a7"
      },
      "execution_count": null,
      "outputs": [
        {
          "output_type": "execute_result",
          "data": {
            "text/plain": [
              "('blue', 'yellow')"
            ]
          },
          "metadata": {},
          "execution_count": 22
        }
      ]
    },
    {
      "cell_type": "code",
      "source": [
        "#A 13.\n",
        "tuple = ( 10,20,5,15)\n",
        "min_num = min(tuple)\n",
        "print(min_num)"
      ],
      "metadata": {
        "colab": {
          "base_uri": "https://localhost:8080/"
        },
        "id": "7vevqQLn1B89",
        "outputId": "5ddaf9e5-89ab-4fd4-fa72-516839d870e9"
      },
      "execution_count": null,
      "outputs": [
        {
          "output_type": "stream",
          "name": "stdout",
          "text": [
            "5\n"
          ]
        }
      ]
    },
    {
      "cell_type": "code",
      "source": [
        "#A 14.\n",
        "tuple =('dog','cat','rabit')\n",
        "tuple[1] # cat indexing is one"
      ],
      "metadata": {
        "colab": {
          "base_uri": "https://localhost:8080/",
          "height": 36
        },
        "id": "-JGOscK81xJF",
        "outputId": "d8bde5d7-acac-4037-aad7-5950dcf2ee33"
      },
      "execution_count": null,
      "outputs": [
        {
          "output_type": "execute_result",
          "data": {
            "text/plain": [
              "'cat'"
            ],
            "application/vnd.google.colaboratory.intrinsic+json": {
              "type": "string"
            }
          },
          "metadata": {},
          "execution_count": 3
        }
      ]
    },
    {
      "cell_type": "code",
      "source": [
        "#A 15.\n",
        "fruits = ('apple','grapes','orange')\n",
        "if \"kiwi\" in fruits :\n",
        "  print(\" kiwi is in the tuple \")\n",
        "else :\n",
        "  print(\" kiwi is not in the tuple \")"
      ],
      "metadata": {
        "colab": {
          "base_uri": "https://localhost:8080/"
        },
        "id": "i2y9Ta152fSC",
        "outputId": "9ac572be-4198-4d87-de47-1ecd867fe5ce"
      },
      "execution_count": null,
      "outputs": [
        {
          "output_type": "stream",
          "name": "stdout",
          "text": [
            " kiwi is not in the tuple \n"
          ]
        }
      ]
    },
    {
      "cell_type": "code",
      "source": [
        "#A 16.\n",
        "A = { 'a' ,'b','c'}\n",
        "A"
      ],
      "metadata": {
        "colab": {
          "base_uri": "https://localhost:8080/"
        },
        "id": "3oD-FQGt3XOC",
        "outputId": "61f04eb4-3834-41cc-f3f7-e4924c82adde"
      },
      "execution_count": null,
      "outputs": [
        {
          "output_type": "execute_result",
          "data": {
            "text/plain": [
              "{'a', 'b', 'c'}"
            ]
          },
          "metadata": {},
          "execution_count": 7
        }
      ]
    },
    {
      "cell_type": "code",
      "source": [
        "#A 17.\n",
        "A = {'a','b','c'}\n",
        "A.clear ()\n",
        "A"
      ],
      "metadata": {
        "colab": {
          "base_uri": "https://localhost:8080/"
        },
        "id": "b_oo5Gqx4CWf",
        "outputId": "aefd237e-c03e-4579-b937-3cf2d16c2788"
      },
      "execution_count": null,
      "outputs": [
        {
          "output_type": "execute_result",
          "data": {
            "text/plain": [
              "set()"
            ]
          },
          "metadata": {},
          "execution_count": 9
        }
      ]
    },
    {
      "cell_type": "code",
      "source": [
        "#A 18.\n",
        "s ={1,2,3,4}\n",
        "s.remove(4)\n",
        "s"
      ],
      "metadata": {
        "colab": {
          "base_uri": "https://localhost:8080/"
        },
        "id": "nSg4H79z4YNA",
        "outputId": "5151188b-c721-4660-ba3d-f7fcd3626002"
      },
      "execution_count": null,
      "outputs": [
        {
          "output_type": "execute_result",
          "data": {
            "text/plain": [
              "{1, 2, 3}"
            ]
          },
          "metadata": {},
          "execution_count": 10
        }
      ]
    },
    {
      "cell_type": "code",
      "source": [
        "#A 19.\n",
        "s1= {1,2,3}\n",
        "s2={3,4, 5}\n",
        "unique_s= s1^s2\n",
        "unique_s"
      ],
      "metadata": {
        "colab": {
          "base_uri": "https://localhost:8080/"
        },
        "id": "eoDwSwVn5dqC",
        "outputId": "c2527887-3a02-4598-93a7-48846c1ef8b2"
      },
      "execution_count": null,
      "outputs": [
        {
          "output_type": "execute_result",
          "data": {
            "text/plain": [
              "{1, 2, 4, 5}"
            ]
          },
          "metadata": {},
          "execution_count": 11
        }
      ]
    },
    {
      "cell_type": "code",
      "source": [
        "#A 20.\n",
        "s1={1,2,3}\n",
        "s2={2,3,4}\n",
        "intersection_s= s1 & s2\n",
        "intersection_s"
      ],
      "metadata": {
        "colab": {
          "base_uri": "https://localhost:8080/"
        },
        "id": "oM1iQuBN6EKJ",
        "outputId": "5af58688-2935-4f6a-acf4-d09986477a67"
      },
      "execution_count": null,
      "outputs": [
        {
          "output_type": "execute_result",
          "data": {
            "text/plain": [
              "{2, 3}"
            ]
          },
          "metadata": {},
          "execution_count": 12
        }
      ]
    },
    {
      "cell_type": "code",
      "source": [
        "#A 21.\n",
        "dict_1 = {\"name \" : \"shweta \" ,\"age \" :\"25\" ,\"city \":\"kanpur \"\n",
        "}\n",
        "dict_1"
      ],
      "metadata": {
        "colab": {
          "base_uri": "https://localhost:8080/"
        },
        "id": "OBKuAs9X63p8",
        "outputId": "01383fb4-0153-4b57-caca-9509f61ea213"
      },
      "execution_count": null,
      "outputs": [
        {
          "output_type": "execute_result",
          "data": {
            "text/plain": [
              "{'name ': 'shweta ', 'age ': '25', 'city ': 'kanpur '}"
            ]
          },
          "metadata": {},
          "execution_count": 14
        }
      ]
    },
    {
      "cell_type": "code",
      "source": [
        "#A 22.\n",
        "dict_1 = {\"name \": \"shweta \",\"age \": \"25 \",\"city \": \"kanpur \"}\n",
        "dict_1 .update ({\"country \":\"USA \"})\n",
        "dict_1"
      ],
      "metadata": {
        "colab": {
          "base_uri": "https://localhost:8080/"
        },
        "id": "2Empxiwo7qqp",
        "outputId": "17837f97-af89-4a21-e78e-71ee2af7a25e"
      },
      "execution_count": null,
      "outputs": [
        {
          "output_type": "execute_result",
          "data": {
            "text/plain": [
              "{'name ': 'shweta ', 'age ': '25 ', 'city ': 'kanpur ', 'country ': 'USA '}"
            ]
          },
          "metadata": {},
          "execution_count": 15
        }
      ]
    },
    {
      "cell_type": "code",
      "source": [
        "#A 23.\n",
        "dict= {\"name \": \"john\" , \"age \":25 }\n",
        "name = dict[\"name \"]\n",
        "print(name )"
      ],
      "metadata": {
        "colab": {
          "base_uri": "https://localhost:8080/"
        },
        "id": "E2P-E5ja85oa",
        "outputId": "48ffb4f2-2ad3-4602-c82a-0e3b288aed2b"
      },
      "execution_count": null,
      "outputs": [
        {
          "output_type": "stream",
          "name": "stdout",
          "text": [
            "john\n"
          ]
        }
      ]
    },
    {
      "cell_type": "code",
      "source": [
        "#A 24.\n",
        "dict ={'name': 'john' ,'age':25,'city':'New york '}\n",
        "del dict ['age']\n",
        "print(dict )"
      ],
      "metadata": {
        "colab": {
          "base_uri": "https://localhost:8080/"
        },
        "id": "KM9nJJQU-JZq",
        "outputId": "7c15446e-b010-4044-98d5-ca80c6214d8c"
      },
      "execution_count": null,
      "outputs": [
        {
          "output_type": "stream",
          "name": "stdout",
          "text": [
            "{'name': 'john', 'city': 'New york '}\n"
          ]
        }
      ]
    },
    {
      "cell_type": "code",
      "source": [
        "#A 26.\n",
        "list = [ 23,45,67,'shyam']\n",
        "print (\"the list is \",list )\n",
        "tuple = ( 23,45, 80 )\n",
        "print(\"the tuple is \" ,tuple )\n",
        "dict={'name':'bob','age ':23}\n",
        "print(\"the dictionary is \",dict )"
      ],
      "metadata": {
        "colab": {
          "base_uri": "https://localhost:8080/"
        },
        "id": "Z_hr8UQZ_81P",
        "outputId": "5b37e7ff-8010-4754-9bec-84616441d230"
      },
      "execution_count": null,
      "outputs": [
        {
          "output_type": "stream",
          "name": "stdout",
          "text": [
            "the list is  [23, 45, 67, 'shyam']\n",
            "the tuple is  (23, 45, 80)\n",
            "the dictionary is  {'name': 'bob', 'age ': 23}\n"
          ]
        }
      ]
    }
  ]
}